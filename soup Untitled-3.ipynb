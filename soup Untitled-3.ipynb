{
 "cells": [
  {
   "cell_type": "code",
   "execution_count": 12,
   "metadata": {},
   "outputs": [],
   "source": [
    "import requests\n",
    "from bs4 import BeautifulSoup\n",
    "import pandas as pd\n",
    "import urllib.request as urllib2\n",
    "import re "
   ]
  },
  {
   "cell_type": "code",
   "execution_count": 13,
   "metadata": {},
   "outputs": [],
   "source": [
    "def Mexico_Radio_Stations(page_number):\n",
    "\n",
    "    url = f'https://liveonlineradio.net/category/mexico/{page_number}'\n",
    "    response = requests.get(url)\n",
    "    html = response.text \n",
    "    soup = BeautifulSoup(html,'html.parser')\n",
    "    radio= soup.find_all('a', class_='sec-flex')\n",
    "    list=[]\n",
    "    for data in radio:\n",
    "      radio_name =data.text \n",
    "    list.append ({\n",
    "      'radio_name': radio_name,\n",
    "      'radio_url' : data['href']\n",
    "   })\n",
    "    return Mexico_Radio_Stations"
   ]
  },
  {
   "cell_type": "code",
   "execution_count": 14,
   "metadata": {},
   "outputs": [],
   "source": [
    "start= 2\n",
    "end =  5"
   ]
  },
  {
   "cell_type": "code",
   "execution_count": 15,
   "metadata": {},
   "outputs": [
    {
     "name": "stdout",
     "output_type": "stream",
     "text": [
      "1\n",
      "2\n",
      "3\n",
      "4\n"
     ]
    }
   ],
   "source": [
    "master_list = []\n",
    "for page_number in range (start -1, end ):\n",
    "    data_dict= {}\n",
    "    data_dict['page_number'] = page_number\n",
    "    data_dict['Radio_stations'] = Mexico_Radio_Stations(page_number)\n",
    "    master_list.append(data_dict)\n",
    "    print(page_number)\n"
   ]
  },
  {
   "cell_type": "code",
   "execution_count": 16,
   "metadata": {},
   "outputs": [
    {
     "data": {
      "text/plain": [
       "[{'page_number': 1,\n",
       "  'Radio_stations': <function __main__.Mexico_Radio_Stations(page_number)>},\n",
       " {'page_number': 2,\n",
       "  'Radio_stations': <function __main__.Mexico_Radio_Stations(page_number)>},\n",
       " {'page_number': 3,\n",
       "  'Radio_stations': <function __main__.Mexico_Radio_Stations(page_number)>},\n",
       " {'page_number': 4,\n",
       "  'Radio_stations': <function __main__.Mexico_Radio_Stations(page_number)>}]"
      ]
     },
     "execution_count": 16,
     "metadata": {},
     "output_type": "execute_result"
    }
   ],
   "source": [
    "master_list"
   ]
  },
  {
   "cell_type": "code",
   "execution_count": 18,
   "metadata": {},
   "outputs": [
    {
     "name": "stdout",
     "output_type": "stream",
     "text": [
      "[{'radio_name': 'KE BUENA 103.9 FM', 'radio_url': 'https://liveonlineradio.net/ke-buena-103-9-fm'}]\n"
     ]
    }
   ],
   "source": [
    "print(list)"
   ]
  },
  {
   "cell_type": "code",
   "execution_count": null,
   "metadata": {},
   "outputs": [],
   "source": []
  }
 ],
 "metadata": {
  "kernelspec": {
   "display_name": "Python 3",
   "language": "python",
   "name": "python3"
  },
  "language_info": {
   "codemirror_mode": {
    "name": "ipython",
    "version": 3
   },
   "file_extension": ".py",
   "mimetype": "text/x-python",
   "name": "python",
   "nbconvert_exporter": "python",
   "pygments_lexer": "ipython3",
   "version": "3.11.5"
  }
 },
 "nbformat": 4,
 "nbformat_minor": 2
}
